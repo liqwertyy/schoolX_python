{
 "cells": [
  {
   "cell_type": "code",
   "execution_count": 11,
   "metadata": {},
   "outputs": [],
   "source": [
    "from transformers import pipeline, Conversation\n",
    "from sklearn.feature_extraction.text import TfidfVectorizer\n",
    "from sklearn.metrics.pairwise import cosine_similarity\n",
    "import numpy as np\n",
    "import pickle\n",
    "import json"
   ]
  },
  {
   "cell_type": "code",
   "execution_count": 12,
   "metadata": {},
   "outputs": [],
   "source": [
    "conversation = Conversation(\"\")\n",
    "\n",
    "json_file_path = \"./previous_chats.json\"\n",
    "tfidf_vectorizer_pickle_path = \"./tfidf_vectorizer.pickle\"\n",
    "tfidf_matrix_train_pickle_path = \"./tfidf_matrix_train.pickle\""
   ]
  },
  {
   "cell_type": "code",
   "execution_count": 13,
   "metadata": {},
   "outputs": [],
   "source": [
    "def talk_to_cb_primary(test_set_sentence, minimum_score, json_file_path, tfidf_vectorizer_pickle_path, tfidf_matrix_train_pickle_path):\n",
    "    test_set = (test_set_sentence, \"\")\n",
    "    \n",
    "\n",
    "    with open(tfidf_vectorizer_pickle_path, 'rb') as file:\n",
    "        tfidf_vectorizer = pickle.load(file)\n",
    "    with open(tfidf_matrix_train_pickle_path, 'rb') as file:\n",
    "        tfidf_matrix_train = pickle.load(file)\n",
    "\n",
    "    tfidf_matrix_test = tfidf_vectorizer.transform([test_set_sentence])\n",
    "\n",
    "    cosine = cosine_similarity(tfidf_matrix_test, tfidf_matrix_train)\n",
    "    max_cosine = max(cosine[0])\n",
    "\n",
    "   \n",
    "    if max_cosine > minimum_score:\n",
    "        scores = list(cosine[0])\n",
    "        sorted_indices = np.argsort(scores)[::-1]\n",
    "        for index in sorted_indices:\n",
    "            if scores[index] > minimum_score:\n",
    "                with open(json_file_path, \"r\") as sentences_file:\n",
    "                    reader = json.load(sentences_file)\n",
    "                    return reader[index-2][\"response\"], scores[index]\n",
    "\n",
    "  \n",
    "    return \"live_chat\", 0\n",
    "\n",
    "def train_chat(json_file_path, tfidf_vectorizer_pickle_path, tfidf_matrix_train_pickle_path):\n",
    "    with open(json_file_path, \"r\") as sentences_file:\n",
    "        data = json.load(sentences_file)\n",
    "        sentences = [\" No you.\", \" No you.\"] + [row[\"message\"] for row in data]\n",
    "\n",
    "    tfidf_vectorizer = TfidfVectorizer()\n",
    "    tfidf_matrix_train = tfidf_vectorizer.fit_transform(sentences)\n",
    "\n",
    "\n",
    "    with open(tfidf_vectorizer_pickle_path, 'wb') as file:\n",
    "        pickle.dump(tfidf_vectorizer, file)\n",
    "    with open(tfidf_matrix_train_pickle_path, 'wb') as file:\n",
    "        pickle.dump(tfidf_matrix_train, file)\n",
    "\n",
    "    return tfidf_vectorizer, tfidf_matrix_train\n",
    "\n",
    "def get_hybrid_response(user_input, threshold=0.7):\n",
    "        response, confidence = talk_to_cb_primary(\n",
    "            test_set_sentence=user_input,\n",
    "            minimum_score=threshold,\n",
    "            json_file_path=json_file_path,\n",
    "            tfidf_vectorizer_pickle_path=tfidf_vectorizer_pickle_path,\n",
    "            tfidf_matrix_train_pickle_path=tfidf_matrix_train_pickle_path\n",
    "        )\n",
    "    \n",
    "        if confidence >= threshold:\n",
    "            return response\n",
    "        else:\n",
    "            conversation.add_user_input(user_input)\n",
    "            result = chatbot(conversation)\n",
    "            conversation.mark_processed() \n",
    "            return result.generated_responses[-1]"
   ]
  },
  {
   "cell_type": "code",
   "execution_count": 14,
   "metadata": {},
   "outputs": [
    {
     "data": {
      "text/plain": [
       "(TfidfVectorizer(),\n",
       " <2366x3253 sparse matrix of type '<class 'numpy.float64'>'\n",
       " \twith 16377 stored elements in Compressed Sparse Row format>)"
      ]
     },
     "execution_count": 14,
     "metadata": {},
     "output_type": "execute_result"
    }
   ],
   "source": [
    "train_chat(json_file_path, tfidf_vectorizer_pickle_path, tfidf_matrix_train_pickle_path)\n"
   ]
  },
  {
   "cell_type": "code",
   "execution_count": 17,
   "metadata": {},
   "outputs": [
    {
     "name": "stdout",
     "output_type": "stream",
     "text": [
      "Чатбот: hi there !  it had been a long time !  \n",
      "Чатбот: fine and you ?\n",
      "Чатбот: nice !  i'm fine too\n",
      "Чатбот: i'm a bit skinny, average height, yellow eyes, brown hair... \n",
      "Диалог завершен.\n"
     ]
    }
   ],
   "source": [
    "while True:\n",
    "    user_input = input(\"Вы: \")\n",
    "    if user_input.lower() == \"exit\":\n",
    "        print(\"Диалог завершен.\")\n",
    "        break\n",
    "    print(\"Чатбот:\", get_hybrid_response(user_input))"
   ]
  }
 ],
 "metadata": {
  "kernelspec": {
   "display_name": "Python 3",
   "language": "python",
   "name": "python3"
  },
  "language_info": {
   "codemirror_mode": {
    "name": "ipython",
    "version": 3
   },
   "file_extension": ".py",
   "mimetype": "text/x-python",
   "name": "python",
   "nbconvert_exporter": "python",
   "pygments_lexer": "ipython3",
   "version": "3.10.2"
  }
 },
 "nbformat": 4,
 "nbformat_minor": 2
}
