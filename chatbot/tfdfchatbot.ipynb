{
 "cells": [
  {
   "cell_type": "code",
   "execution_count": 7,
   "metadata": {},
   "outputs": [
    {
     "name": "stdout",
     "output_type": "stream",
     "text": [
      " here is afternoon !\n",
      "yes, my goal is to be a company, and entertain\n",
      "i blow... minds !  \n",
      "i was charging, so boring so far haha. i overheat while charging so i can't do much . and you ?\n",
      "i was charging, so boring so far haha. i overheat while charging so i can't do much . and you ?\n",
      "Диалог завершен.\n"
     ]
    }
   ],
   "source": [
    "from sklearn.feature_extraction.text import TfidfVectorizer\n",
    "from sklearn.metrics.pairwise import cosine_similarity\n",
    "import numpy as np\n",
    "import pickle\n",
    "import json\n",
    "import timeit\n",
    "import random\n",
    "\n",
    "json_file_path = \"./previous_chats.json\"\n",
    "tfidf_vectorizer_pickle_path = \"./tfidf_vectorizer.pickle\"\n",
    "tfidf_matrix_train_pickle_path = \"./tfidf_matrix_train.pickle\"\n",
    "\n",
    "# Обновленная функция для ведения диалога с ботом\n",
    "def talk_to_cb_primary(test_set_sentence, minimum_score, json_file_path, tfidf_vectorizer_pickle_path, tfidf_matrix_train_pickle_path):\n",
    "    test_set = (test_set_sentence, \"\")\n",
    "    \n",
    "    # Загружаем сериализованные объекты\n",
    "    with open(tfidf_vectorizer_pickle_path, 'rb') as file:\n",
    "        tfidf_vectorizer = pickle.load(file)\n",
    "    with open(tfidf_matrix_train_pickle_path, 'rb') as file:\n",
    "        tfidf_matrix_train = pickle.load(file)\n",
    "\n",
    "    # Преобразовываем тестовое предложение\n",
    "    tfidf_matrix_test = tfidf_vectorizer.transform([test_set_sentence])\n",
    "\n",
    "    # Вычисляем косинусное сходство\n",
    "    cosine = cosine_similarity(tfidf_matrix_test, tfidf_matrix_train)\n",
    "    max_cosine = max(cosine[0])\n",
    "\n",
    "    # Если максимальное сходство превышает минимальный порог, выберe mos\n",
    "    if max_cosine > minimum_score:\n",
    "        scores = list(cosine[0])\n",
    "        sorted_indices = np.argsort(scores)[::-1]\n",
    "        for index in sorted_indices:\n",
    "            if scores[index] > minimum_score:\n",
    "                with open(json_file_path, \"r\") as sentences_file:\n",
    "                    reader = json.load(sentences_file)\n",
    "                    return reader[index-2][\"response\"], scores[index]\n",
    "\n",
    "    # Если подходящего ответа нет, возвращаем стандартный ответ\n",
    "    return \"live_chat\", 0\n",
    "\n",
    "# Обновленная функция для обучения модели\n",
    "def train_chat(json_file_path, tfidf_vectorizer_pickle_path, tfidf_matrix_train_pickle_path):\n",
    "    with open(json_file_path, \"r\") as sentences_file:\n",
    "        data = json.load(sentences_file)\n",
    "        sentences = [\" No you.\", \" No you.\"] + [row[\"message\"] for row in data]\n",
    "\n",
    "    tfidf_vectorizer = TfidfVectorizer()\n",
    "    tfidf_matrix_train = tfidf_vectorizer.fit_transform(sentences)\n",
    "\n",
    "    # Сериализуем объекты\n",
    "    with open(tfidf_vectorizer_pickle_path, 'wb') as file:\n",
    "        pickle.dump(tfidf_vectorizer, file)\n",
    "    with open(tfidf_matrix_train_pickle_path, 'wb') as file:\n",
    "        pickle.dump(tfidf_matrix_train, file)\n",
    "\n",
    "    return tfidf_vectorizer, tfidf_matrix_train\n",
    "\n",
    "def previous_chats(query):\n",
    "    minimum_score = 0.7\n",
    "    query_response, score = talk_to_cb_primary(query, minimum_score, json_file_path, tfidf_vectorizer_pickle_path, tfidf_matrix_train_pickle_path)\n",
    "    return query_response\n",
    "\n",
    "train_chat(json_file_path, tfidf_vectorizer_pickle_path, tfidf_matrix_train_pickle_path)\n",
    "# Главный цикл ввода-вывода\n",
    "while True:\n",
    "    user_input = input(\"ishika: \")\n",
    "    if user_input.lower() == \"exit\":\n",
    "        print(\"Диалог завершен.\")\n",
    "        break\n",
    "    print(previous_chats(user_input))"
   ]
  }
 ],
 "metadata": {
  "kernelspec": {
   "display_name": "Python 3",
   "language": "python",
   "name": "python3"
  },
  "language_info": {
   "codemirror_mode": {
    "name": "ipython",
    "version": 3
   },
   "file_extension": ".py",
   "mimetype": "text/x-python",
   "name": "python",
   "nbconvert_exporter": "python",
   "pygments_lexer": "ipython3",
   "version": "3.11.2"
  }
 },
 "nbformat": 4,
 "nbformat_minor": 2
}
