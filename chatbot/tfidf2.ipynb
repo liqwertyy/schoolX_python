{
 "cells": [
  {
   "cell_type": "code",
   "execution_count": null,
   "metadata": {},
   "outputs": [],
   "source": [
    "from sklearn.feature_extraction.text import TfidfVectorizer\n",
    "from sklearn.svm import LinearSVC\n",
    "from sklearn.pipeline import make_pipeline\n",
    "from sklearn.model_selection import train_test_split\n",
    "from sklearn.metrics import accuracy_score\n",
    "\n",
    "# Предположим, у вас есть обработанный датасет с текстом и метками\n",
    "texts = ['первое сообщение', 'второе сообщение', 'третье сообщение']\n",
    "labels = [0, 1, 0]  # Пример меток (0 и 1)\n",
    "\n",
    "# Разделяем датасет на обучающую и тестовую выборки\n",
    "X_train, X_test, y_train, y_test = train_test_split(texts, labels, test_size=0.2, random_state=42)\n",
    "\n",
    "# Создаем и обучаем модель чатбота\n",
    "model = make_pipeline(TfidfVectorizer(), LinearSVC())\n",
    "model.fit(X_train, y_train)\n",
    "\n",
    "# Делаем предсказание\n",
    "y_pred = model.predict(X_test)\n",
    "\n",
    "# Оцениваем производительность модели\n",
    "accuracy = accuracy_score(y_test, y_pred)\n",
    "print(f'Точность модели: {accuracy}')"
   ]
  }
 ],
 "metadata": {
  "language_info": {
   "name": "python"
  }
 },
 "nbformat": 4,
 "nbformat_minor": 2
}
