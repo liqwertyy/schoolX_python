{
 "cells": [
  {
   "cell_type": "code",
   "execution_count": 74,
   "metadata": {},
   "outputs": [],
   "source": [
    "import pandas as pd \n",
    "import numpy as np\n",
    "from matplotlib import pyplot as plt\n"
   ]
  },
  {
   "cell_type": "code",
   "execution_count": 75,
   "metadata": {},
   "outputs": [
    {
     "data": {
      "text/html": [
       "<div>\n",
       "<style scoped>\n",
       "    .dataframe tbody tr th:only-of-type {\n",
       "        vertical-align: middle;\n",
       "    }\n",
       "\n",
       "    .dataframe tbody tr th {\n",
       "        vertical-align: top;\n",
       "    }\n",
       "\n",
       "    .dataframe thead th {\n",
       "        text-align: right;\n",
       "    }\n",
       "</style>\n",
       "<table border=\"1\" class=\"dataframe\">\n",
       "  <thead>\n",
       "    <tr style=\"text-align: right;\">\n",
       "      <th></th>\n",
       "      <th>device_id</th>\n",
       "      <th>device_type</th>\n",
       "      <th>datetime</th>\n",
       "      <th>ev_type</th>\n",
       "      <th>adv_type</th>\n",
       "      <th>region_id</th>\n",
       "      <th>age</th>\n",
       "      <th>gender</th>\n",
       "    </tr>\n",
       "  </thead>\n",
       "  <tbody>\n",
       "    <tr>\n",
       "      <th>0</th>\n",
       "      <td>100001</td>\n",
       "      <td>android</td>\n",
       "      <td>2019-03-01 15:58:02</td>\n",
       "      <td>0</td>\n",
       "      <td>multi</td>\n",
       "      <td>2</td>\n",
       "      <td>14</td>\n",
       "      <td>2</td>\n",
       "    </tr>\n",
       "    <tr>\n",
       "      <th>1</th>\n",
       "      <td>100001</td>\n",
       "      <td>android</td>\n",
       "      <td>2019-03-01 17:13:53</td>\n",
       "      <td>0</td>\n",
       "      <td>multi</td>\n",
       "      <td>2</td>\n",
       "      <td>14</td>\n",
       "      <td>2</td>\n",
       "    </tr>\n",
       "    <tr>\n",
       "      <th>2</th>\n",
       "      <td>100002</td>\n",
       "      <td>android</td>\n",
       "      <td>2019-03-01 23:13:25</td>\n",
       "      <td>0</td>\n",
       "      <td>multi</td>\n",
       "      <td>2</td>\n",
       "      <td>0</td>\n",
       "      <td>0</td>\n",
       "    </tr>\n",
       "    <tr>\n",
       "      <th>3</th>\n",
       "      <td>100002</td>\n",
       "      <td>android</td>\n",
       "      <td>2019-03-01 23:25:06</td>\n",
       "      <td>0</td>\n",
       "      <td>multi</td>\n",
       "      <td>2</td>\n",
       "      <td>0</td>\n",
       "      <td>0</td>\n",
       "    </tr>\n",
       "    <tr>\n",
       "      <th>4</th>\n",
       "      <td>100003</td>\n",
       "      <td>android</td>\n",
       "      <td>2019-03-01 15:27:53</td>\n",
       "      <td>0</td>\n",
       "      <td>multi</td>\n",
       "      <td>1</td>\n",
       "      <td>0</td>\n",
       "      <td>0</td>\n",
       "    </tr>\n",
       "  </tbody>\n",
       "</table>\n",
       "</div>"
      ],
      "text/plain": [
       "   device_id device_type             datetime  ev_type adv_type  region_id  \\\n",
       "0     100001     android  2019-03-01 15:58:02        0    multi          2   \n",
       "1     100001     android  2019-03-01 17:13:53        0    multi          2   \n",
       "2     100002     android  2019-03-01 23:13:25        0    multi          2   \n",
       "3     100002     android  2019-03-01 23:25:06        0    multi          2   \n",
       "4     100003     android  2019-03-01 15:27:53        0    multi          1   \n",
       "\n",
       "   age  gender  \n",
       "0   14       2  \n",
       "1   14       2  \n",
       "2    0       0  \n",
       "3    0       0  \n",
       "4    0       0  "
      ]
     },
     "execution_count": 75,
     "metadata": {},
     "output_type": "execute_result"
    }
   ],
   "source": [
    "data = pd.read_csv('python_task_dataset.csv')\n",
    "data.head()"
   ]
  },
  {
   "cell_type": "code",
   "execution_count": 86,
   "metadata": {},
   "outputs": [
    {
     "data": {
      "image/png": "[encoded data removed]",
      "text/plain": [
       "<Figure size 640x480 with 1 Axes>"
      ]
     },
     "metadata": {},
     "output_type": "display_data"
    }
   ],
   "source": [
    "filtered_data = data[data['ev_type'] == 1]\n",
    "\n",
    "grouped_data = filtered_data.groupby('age')['age'].count()\n",
    "\n",
    "grouped_data.plot(kind='bar')\n",
    "plt.xlabel('Возраст')\n",
    "plt.ylabel('Количество людей')\n",
    "plt.title('количеств людей с опред возрастом кликнувших')\n",
    "plt.show()"
   ]
  },
  {
   "cell_type": "code",
   "execution_count": 79,
   "metadata": {},
   "outputs": [],
   "source": [
    "# plt.scatter(data['ev_type'], data['age'])\n",
    "# plt.xlabel('клик на рекламу')\n",
    "# plt.ylabel('возраст')\n",
    "# plt.title('График scatterplot')\n",
    "# plt.show()"
   ]
  },
  {
   "cell_type": "code",
   "execution_count": 80,
   "metadata": {},
   "outputs": [
    {
     "name": "stdout",
     "output_type": "stream",
     "text": [
      "4108\n"
     ]
    }
   ],
   "source": [
    "#количество кликнувших\n",
    "df= pd.DataFrame(data)\n",
    "count = df[df['ev_type'] == 1].shape[0]\n",
    "print(count)"
   ]
  },
  {
   "cell_type": "code",
   "execution_count": 81,
   "metadata": {},
   "outputs": [
    {
     "name": "stdout",
     "output_type": "stream",
     "text": [
      "35\n"
     ]
    }
   ],
   "source": [
    "#количество женщин кликнувших\n",
    "count2 = df[(df['ev_type'] == 1) & (df['gender'] == 2)  ].shape[0]\n",
    "print(count2)"
   ]
  },
  {
   "cell_type": "code",
   "execution_count": 82,
   "metadata": {},
   "outputs": [
    {
     "name": "stdout",
     "output_type": "stream",
     "text": [
      "3943\n"
     ]
    }
   ],
   "source": [
    "#количество мужчин кликнувших\n",
    "count2 = df[(df['ev_type'] == 1) & (df['gender'] == 1)  ].shape[0]\n",
    "print(count2)"
   ]
  },
  {
   "cell_type": "code",
   "execution_count": 83,
   "metadata": {},
   "outputs": [],
   "source": [
    "# #\n",
    "# count3 = df[(df['ev_type'] == 1) & (df['age'] >20)  ].shape[0]\n",
    "# print(count3)"
   ]
  },
  {
   "cell_type": "code",
   "execution_count": 84,
   "metadata": {},
   "outputs": [
    {
     "name": "stdout",
     "output_type": "stream",
     "text": [
      "3290\n"
     ]
    }
   ],
   "source": [
    "#количество кликнувших по региону 1\n",
    "count4 = df[(df['ev_type'] == 1) & (df['region_id'] == 1)  ].shape[0]\n",
    "print(count4)"
   ]
  },
  {
   "cell_type": "code",
   "execution_count": 85,
   "metadata": {},
   "outputs": [
    {
     "name": "stdout",
     "output_type": "stream",
     "text": [
      "818\n"
     ]
    }
   ],
   "source": [
    "#количество кликнувших по региону 2\n",
    "count5 = df[(df['ev_type'] == 1) & (df['region_id'] == 2)  ].shape[0]\n",
    "print(count5)"
   ]
  }
 ],
 "metadata": {
  "kernelspec": {
   "display_name": "Python 3",
   "language": "python",
   "name": "python3"
  },
  "language_info": {
   "codemirror_mode": {
    "name": "ipython",
    "version": 3
   },
   "file_extension": ".py",
   "mimetype": "text/x-python",
   "name": "python",
   "nbconvert_exporter": "python",
   "pygments_lexer": "ipython3",
   "version": "3.11.2"
  }
 },
 "nbformat": 4,
 "nbformat_minor": 2
}
