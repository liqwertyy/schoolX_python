{
 "cells": [
  {
   "cell_type": "code",
   "execution_count": null,
   "metadata": {},
   "outputs": [],
   "source": [
    "tree = {\n",
    "   1: {\n",
    "       1: {\n",
    "            1: 'text',\n",
    "            2: 'text',\n",
    "            3: 'text',\n",
    "        },\n",
    "    },\n",
    "    2: {\n",
    "        1: {\n",
    "            1: {\n",
    "                1: {\n",
    "                    1: 'folder',\n",
    "                    1: 'folder',\n",
    "                    1: 'target_folder',\n",
    "                },\n",
    "                2: [1, 2, 3]\n",
    "            }\n",
    "        }\n",
    "    },\n",
    "}"
   ]
  },
  {
   "cell_type": "code",
   "execution_count": null,
   "metadata": {},
   "outputs": [],
   "source": [
    "def rec_find(tree : dict, name: str):\n",
    "    for key, value in tree.items():\n",
    "        print('ключ - {key}')"
   ]
  },
  {
   "cell_type": "code",
   "execution_count": null,
   "metadata": {},
   "outputs": [],
   "source": [
    "rec_find(tree : dict, name: str):"
   ]
  }
 ],
 "metadata": {
  "language_info": {
   "name": "python"
  },
  "orig_nbformat": 4
 },
 "nbformat": 4,
 "nbformat_minor": 2
}
