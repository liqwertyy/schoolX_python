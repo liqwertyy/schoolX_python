{
 "cells": [
  {
   "cell_type": "code",
   "execution_count": 2,
   "metadata": {},
   "outputs": [
    {
     "name": "stdout",
     "output_type": "stream",
     "text": [
      "[[0.49999373]\n",
      " [0.49996832]\n",
      " [0.49996321]\n",
      " [0.4999394 ]]\n"
     ]
    }
   ],
   "source": [
    "import numpy as np\n",
    "\n",
    "def sigmoid(x):\n",
    "    return 1 / (1 + np.exp(-x))\n",
    "\n",
    "def sigmoid_derivative(x):\n",
    "    return x * (1 - x)\n",
    "\n",
    "X = np.array([[-1,-1], [-1,1], [1,-1], [1,1]])\n",
    "y = np.array([[0], [1], [1], [0]])\n",
    "\n",
    "input_nodes = 2\n",
    "hidden_nodes = 2\n",
    "output_nodes = 1\n",
    "\n",
    "np.random.seed(1)\n",
    "w1 = 2 * np.random.random((input_nodes, hidden_nodes)) - 1\n",
    "w2 = 2 * np.random.random((hidden_nodes, output_nodes)) - 1\n",
    "\n",
    "learning_rate = 0.1\n",
    "for i in range(10000):\n",
    "   \n",
    "    layer1 = sigmoid(np.dot(X, w1))\n",
    "    layer2 = sigmoid(np.dot(layer1, w2))\n",
    "\n",
    "    layer2_error = y - layer2\n",
    "    layer2_delta = layer2_error * sigmoid_derivative(layer2)\n",
    "    layer1_error = layer2_delta.dot(w2.T)\n",
    "    layer1_delta = layer1_error * sigmoid_derivative(layer1)\n",
    "    \n",
    "    w2 += learning_rate * layer1.T.dot(layer2_delta)\n",
    "    w1 += learning_rate * X.T.dot(layer1_delta)\n",
    "\n",
    "test_data = np.array([[0,0], [0,1], [1,0], [1,1]])\n",
    "test_labels = np.array([[0], [1], [1], [0]])\n",
    "test_output = sigmoid(np.dot(sigmoid(np.dot(test_data, w1)), w2))\n",
    "print(test_output)"
   ]
  }
 ],
 "metadata": {
  "kernelspec": {
   "display_name": "Python 3",
   "language": "python",
   "name": "python3"
  },
  "language_info": {
   "codemirror_mode": {
    "name": "ipython",
    "version": 3
   },
   "file_extension": ".py",
   "mimetype": "text/x-python",
   "name": "python",
   "nbconvert_exporter": "python",
   "pygments_lexer": "ipython3",
   "version": "3.11.2"
  }
 },
 "nbformat": 4,
 "nbformat_minor": 2
}
