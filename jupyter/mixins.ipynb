{
 "cells": [
  {
   "cell_type": "code",
   "execution_count": 10,
   "metadata": {},
   "outputs": [],
   "source": [
    "class Character:\n",
    "    def __init__(self, speed, weight, shield, name ):\n",
    "        self.speed = speed\n",
    "        self.weight = weight\n",
    "        self.shield = shield\n",
    "        self.hp = 100\n",
    "        self.name = name  \n"
   ]
  },
  {
   "cell_type": "code",
   "execution_count": 11,
   "metadata": {},
   "outputs": [],
   "source": [
    "class HarryPoter(Character):\n",
    "    pass\n",
    "\n",
    "class Hagrid(Character):\n",
    "    pass\n",
    "\n",
    "class Shrek(Character):\n",
    "    pass"
   ]
  },
  {
   "cell_type": "code",
   "execution_count": 12,
   "metadata": {},
   "outputs": [],
   "source": [
    "class MixinYellow(Character):\n",
    "    def yellowing(self):\n",
    "        print({self.name},'желтеет')\n",
    "\n",
    "class MixinEat(Character):\n",
    "    def eat(self):\n",
    "        print({self.name},'ест')\n",
    "\n",
    "class MixinSit(Character):\n",
    "    def sit(self):\n",
    "        print({self.name},'сидит')\n",
    "\n",
    "class MixinСollectDust(Character):\n",
    "    def collectDust(self):\n",
    "        print({self.name},'собирает пыль')\n",
    "\n",
    "class MixinTalk(Character):\n",
    "    def talk(self):\n",
    "        print({self.name},'говорит')\n",
    "\n",
    "class MixinJump(Character):\n",
    "    def jump(self):\n",
    "        print({self.name},'прыгает')\n",
    "        \n"
   ]
  },
  {
   "cell_type": "code",
   "execution_count": 13,
   "metadata": {},
   "outputs": [],
   "source": [
    "class MixinFunkopop(MixinYellow,\n",
    "                 MixinSit,\n",
    "                 MixinСollectDust):\n",
    "        pass\n",
    "\n",
    "class MixinPlayable(MixinTalk,\n",
    "                    MixinJump,\n",
    "                    MixinSit,\n",
    "                    MixinEat):\n",
    "        pass"
   ]
  },
  {
   "cell_type": "code",
   "execution_count": 14,
   "metadata": {},
   "outputs": [],
   "source": [
    "class PlayableHarryPoter(HarryPoter,  MixinPlayable):\n",
    "    def spell(self):\n",
    "        spell = self.speed * self.hp\n",
    "        print(\"я колдую на\", spell, \"единиц\")\n",
    "class FunkoPopHarryPoter(HarryPoter, MixinFunkopop):\n",
    "    pass\n",
    "class PlayableHagrid(Hagrid,  MixinPlayable):\n",
    "    def eat(self):\n",
    "        eat = self.hp * self.weight\n",
    "        print(\"я ЖРУ \", eat, \"калорий\")\n",
    "class FunkoPopHagrid(Hagrid, MixinFunkopop):\n",
    "    pass\n",
    "class PlayableShrek(Shrek,  MixinPlayable):\n",
    "    def attack(self):\n",
    "        attack = self.weight * self.speed\n",
    "        print(\"атакую на\", attack,\"урона\")\n",
    "class FunkoPopShrek(Shrek, MixinFunkopop):\n",
    "    pass"
   ]
  },
  {
   "cell_type": "code",
   "execution_count": 15,
   "metadata": {},
   "outputs": [
    {
     "name": "stdout",
     "output_type": "stream",
     "text": [
      "я колдую на 100 единиц\n"
     ]
    }
   ],
   "source": [
    "ahtem = PlayableHarryPoter(1,2,3, 'ahtem')\n",
    "ahtem.spell()"
   ]
  }
 ],
 "metadata": {
  "kernelspec": {
   "display_name": "Python 3",
   "language": "python",
   "name": "python3"
  },
  "language_info": {
   "codemirror_mode": {
    "name": "ipython",
    "version": 3
   },
   "file_extension": ".py",
   "mimetype": "text/x-python",
   "name": "python",
   "nbconvert_exporter": "python",
   "pygments_lexer": "ipython3",
   "version": "3.11.2"
  },
  "orig_nbformat": 4
 },
 "nbformat": 4,
 "nbformat_minor": 2
}
