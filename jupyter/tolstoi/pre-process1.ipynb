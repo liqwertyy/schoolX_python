{
 "cells": [
  {
   "cell_type": "code",
   "execution_count": 7,
   "metadata": {},
   "outputs": [],
   "source": [
    "from nltk import word_tokenize\n",
    "from nltk.tokenize import word_tokenize\n",
    "from nltk.stem import WordNetLemmatizer\n",
    "from sklearn.feature_extraction.text import TfidfVectorizer\n",
    "from sklearn.metrics.pairwise import cosine_similarity"
   ]
  },
  {
   "cell_type": "code",
   "execution_count": 3,
   "metadata": {},
   "outputs": [],
   "source": [
    "with open('1852detstvo.txt', 'r', encoding='cp1251') as file:\n",
    "    text1 = file.read()\n",
    "with open('1868VoinaImir.txt', 'r' ,encoding='cp1251') as file:\n",
    "    text2 = file.read()\n",
    "with open('1878anna-karenina.txt', 'r', encoding= 'utf-8') as file:\n",
    "    text3 = file.read()\n",
    "with open('1885Ludi.txt', 'r', encoding='cp1251',) as file:\n",
    "    text4 = file.read()\n",
    "with open('1889Kreicerova.txt', 'r', encoding= 'utf-8') as file:\n",
    "    text5 = file.read()\n",
    "with open('1911posle-bala.txt', 'r', encoding='cp1251') as file:\n",
    "    text6 = file.read()"
   ]
  },
  {
   "cell_type": "code",
   "execution_count": 8,
   "metadata": {},
   "outputs": [],
   "source": [
    "lemmatizer = WordNetLemmatizer()\n",
    "\n",
    "def tokenize_and_lemmatize(text):\n",
    "    tokens = word_tokenize(text) \n",
    "    lemmatized_tokens = [lemmatizer.lemmatize(token.lower()) for token in tokens]\n",
    "    return lemmatized_tokens"
   ]
  },
  {
   "cell_type": "code",
   "execution_count": 9,
   "metadata": {},
   "outputs": [],
   "source": [
    "def compare_books(books):\n",
    "    vectorizer = TfidfVectorizer(tokenizer=tokenize_and_lemmatize)\n",
    "    X = vectorizer.fit_transform(books)\n",
    "\n",
    "    similarities = cosine_similarity(X)\n",
    "\n",
    "    return similarities "
   ]
  },
  {
   "cell_type": "code",
   "execution_count": 10,
   "metadata": {},
   "outputs": [
    {
     "name": "stdout",
     "output_type": "stream",
     "text": [
      "матрица косинусного сходства между книгами:\n",
      "[[1.         0.90440943 0.8989494  0.88645069 0.98333448 0.93718224]\n",
      " [0.90440943 1.         0.98843988 0.95439206 0.90790629 0.90355859]\n",
      " [0.8989494  0.98843988 1.         0.95529094 0.90947655 0.89865411]\n",
      " [0.88645069 0.95439206 0.95529094 1.         0.90197204 0.89101625]\n",
      " [0.98333448 0.90790629 0.90947655 0.90197204 1.         0.94470948]\n",
      " [0.93718224 0.90355859 0.89865411 0.89101625 0.94470948 1.        ]]\n"
     ]
    }
   ],
   "source": [
    "\n",
    "similarity_matrix = compare_books([text1, text2, text3, text4, text5, text6])\n",
    "print(\"матрица косинусного сходства между книгами:\")\n",
    "print(similarity_matrix)"
   ]
  }
 ],
 "metadata": {
  "kernelspec": {
   "display_name": "Python 3",
   "language": "python",
   "name": "python3"
  },
  "language_info": {
   "codemirror_mode": {
    "name": "ipython",
    "version": 3
   },
   "file_extension": ".py",
   "mimetype": "text/x-python",
   "name": "python",
   "nbconvert_exporter": "python",
   "pygments_lexer": "ipython3",
   "version": "3.11.2"
  }
 },
 "nbformat": 4,
 "nbformat_minor": 2
}
