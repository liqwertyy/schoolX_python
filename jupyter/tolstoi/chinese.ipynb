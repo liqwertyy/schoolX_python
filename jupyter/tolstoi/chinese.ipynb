{
 "cells": [
  {
   "cell_type": "code",
   "execution_count": 32,
   "metadata": {},
   "outputs": [],
   "source": [
    "import pypinyin\n",
    "from pypinyin import pinyin, Style"
   ]
  },
  {
   "cell_type": "code",
   "execution_count": 37,
   "metadata": {},
   "outputs": [
    {
     "name": "stdout",
     "output_type": "stream",
     "text": [
      "[['nín'], ['kě'], ['yǐ'], ['shǐ'], ['yòng'], ['xún'], ['huán'], ['huò'], ['liè'], ['biǎo'], ['shēng'], ['chéng'], ['qì'], ['jiāng'], ['liè'], ['biǎo'], ['shù'], ['zǔ'], ['zhuǎn'], ['huàn'], ['wèi'], ['dān'], ['gè'], ['wén'], ['běn'], ['zì'], ['fú'], ['chuàn'], ['。'], ['zhè'], ['shì'], ['  '], ['zhōng'], ['de'], ['shì'], ['lì'], ['dài'], ['mǎ']]\n"
     ]
    }
   ],
   "source": [
    "ch_text = '您可以使用循环或列表生成器将列表数组转换为单个文本字符串。这是  中的示例代码'\n",
    "result = pinyin(ch_text, style= Style.TONE)\n",
    "print(result)"
   ]
  },
  {
   "cell_type": "code",
   "execution_count": 38,
   "metadata": {},
   "outputs": [
    {
     "name": "stdout",
     "output_type": "stream",
     "text": [
      "нинь2 кэ3 и3 ши3 юн4 сюнь2 хуань2 хо4 ле4 бяо3 шэн1 чэн2 ци4 цзян1 ле4 бяо3 шу4 цзу3 чжуань3 хуань4 вэй4 дань1 гэ4 вэнь2 бэнь3 цзы4 фу2 чуань4 。 чжэ4 ши4    чжун1 дэ ши4 ли4 дай4 ма3\n"
     ]
    }
   ],
   "source": [
    "text = ' '.join([item[0] for item in result])\n",
    "trans_text = ' '.join([x[0] for x in pinyin(ch_text, style= Style.CYRILLIC)])\n",
    "print(trans_text)"
   ]
  }
 ],
 "metadata": {
  "kernelspec": {
   "display_name": "Python 3",
   "language": "python",
   "name": "python3"
  },
  "language_info": {
   "codemirror_mode": {
    "name": "ipython",
    "version": 3
   },
   "file_extension": ".py",
   "mimetype": "text/x-python",
   "name": "python",
   "nbconvert_exporter": "python",
   "pygments_lexer": "ipython3",
   "version": "3.11.2"
  }
 },
 "nbformat": 4,
 "nbformat_minor": 2
}
