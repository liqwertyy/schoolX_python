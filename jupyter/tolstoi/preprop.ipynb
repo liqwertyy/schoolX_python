{
 "cells": [
  {
   "cell_type": "code",
   "execution_count": 1,
   "metadata": {},
   "outputs": [],
   "source": [
    "import spacy\n",
    "nlp = spacy.load('ru_core_news_sm')\n",
    "nlp.max_length = 1222100000\n",
    "from sklearn.feature_extraction.text import TfidfVectorizer\n",
    "from sklearn.metrics.pairwise import cosine_similarity"
   ]
  },
  {
   "cell_type": "code",
   "execution_count": 2,
   "metadata": {},
   "outputs": [],
   "source": [
    "with open('1852detstvo.txt', 'r', encoding='cp1251') as file:\n",
    "    text1 = file.read()\n",
    "with open('1868VoinaImir.txt', 'r' ,encoding='cp1251') as file:\n",
    "    text2 = file.read()\n",
    "with open('1878anna-karenina.txt', 'r', encoding= 'utf-8') as file:\n",
    "    text3 = file.read()\n",
    "with open('1885Ludi.txt', 'r', encoding='cp1251',) as file:\n",
    "    text4 = file.read()\n",
    "with open('1889Kreicerova.txt', 'r', encoding= 'utf-8') as file:\n",
    "    text5 = file.read()\n",
    "with open('1911posle-bala.txt', 'r', encoding='cp1251') as file:\n",
    "    text6 = file.read()"
   ]
  },
  {
   "cell_type": "code",
   "execution_count": 5,
   "metadata": {},
   "outputs": [
    {
     "name": "stdout",
     "output_type": "stream",
     "text": [
      "Сходство между текст 1 и текст 2:  0.6158119432731788\n",
      "Сходство между текст 1 и текст 3:  0.6196685941101262\n",
      "Сходство между текст 1 и текст 4:  0.3325688192240393\n",
      "Сходство между текст 1 и текст 5:  0.5825820059366912\n",
      "Сходство между текст 1 и текст 6:  0.4543980517618626\n",
      "Сходство между текст 2 и текст 3:  0.6481202364887717\n",
      "Сходство между текст 2 и текст 4:  0.3436757042918959\n",
      "Сходство между текст 2 и текст 5:  0.5544642706151393\n",
      "Сходство между текст 2 и текст 6:  0.45230177383340586\n",
      "Сходство между текст 3 и текст 4:  0.37252374859720416\n",
      "Сходство между текст 3 и текст 5:  0.6414624834458772\n",
      "Сходство между текст 3 и текст 6:  0.4769863375261836\n",
      "Сходство между текст 4 и текст 5:  0.4036547127956412\n",
      "Сходство между текст 4 и текст 6:  0.24859502093728436\n",
      "Сходство между текст 5 и текст 6:  0.4307282121115985\n"
     ]
    }
   ],
   "source": [
    "def preprocession(text):\n",
    "    doc = nlp(text)\n",
    "    tokens = [token.lemma_.lower() for token in doc if not token.is_stop and token.is_alpha]\n",
    "    return \" \".join(tokens)\n",
    "\n",
    "def cosinus_similar(t1, t2):\n",
    "    vectorizer = TfidfVectorizer()\n",
    "    vectorized_documents = vectorizer.fit_transform([t1, t2])\n",
    "    return cosine_similarity(vectorized_documents[0:1], vectorized_documents[1:2])[0,0]\n",
    "\n",
    "texts = [text1, text2, text3, text4, text5, text6]  # Замените этот список на ваши тексты\n",
    "\n",
    "for i in range(len(texts)):\n",
    "    for j in range(i + 1, len(texts)):  # идет с i+1, чтобы избежать сравнения текста самого с собой\n",
    "        t1 = preprocession(texts[i])\n",
    "        t2 = preprocession(texts[j])\n",
    "        print(f\"Сходство между текст {i+1} и текст {j+1}: \", cosinus_similar(t1, t2))\n"
   ]
  },
  {
   "cell_type": "code",
   "execution_count": 4,
   "metadata": {},
   "outputs": [
    {
     "data": {
      "text/plain": [
       "array([[0.61581194]])"
      ]
     },
     "execution_count": 4,
     "metadata": {},
     "output_type": "execute_result"
    }
   ],
   "source": [
    "text_1 = preprocession(text1)\n",
    "text_2 = preprocession(text2)\n",
    "\n",
    "cosinus_similar(text_1, text_2)"
   ]
  }
 ],
 "metadata": {
  "kernelspec": {
   "display_name": "Python 3",
   "language": "python",
   "name": "python3"
  },
  "language_info": {
   "codemirror_mode": {
    "name": "ipython",
    "version": 3
   },
   "file_extension": ".py",
   "mimetype": "text/x-python",
   "name": "python",
   "nbconvert_exporter": "python",
   "pygments_lexer": "ipython3",
   "version": "3.11.2"
  }
 },
 "nbformat": 4,
 "nbformat_minor": 2
}
