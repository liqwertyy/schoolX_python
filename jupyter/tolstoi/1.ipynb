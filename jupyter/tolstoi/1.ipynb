{
 "cells": [
  {
   "cell_type": "code",
   "execution_count": 2,
   "metadata": {},
   "outputs": [],
   "source": [
    "import nltk"
   ]
  },
  {
   "cell_type": "code",
   "execution_count": 1,
   "metadata": {},
   "outputs": [],
   "source": [
    "with open('q.txt', 'r') as file:\n",
    "    text = file.read()\n",
    "with open('posle-bala.txt', 'r') as file:\n",
    "    text2 = file.read()\n",
    "with open('avidreaders.ru__anna-karenina.txt', 'r') as file:\n",
    "    text3 = file.read()\n",
    "with open('Tolstoi_Lev__Kreicerova_sonata_www.Readli.Net_27667.txt', 'r') as file:\n",
    "    text4 = file.read()\n",
    "with open('Толстой Лев. Детство - royallib.ru.txtv', 'r') as file:\n",
    "    text5 = file.read()\n",
    "# print(text)"
   ]
  },
  {
   "cell_type": "code",
   "execution_count": null,
   "metadata": {},
   "outputs": [],
   "source": []
  }
 ],
 "metadata": {
  "kernelspec": {
   "display_name": "Python 3",
   "language": "python",
   "name": "python3"
  },
  "language_info": {
   "codemirror_mode": {
    "name": "ipython",
    "version": 3
   },
   "file_extension": ".py",
   "mimetype": "text/x-python",
   "name": "python",
   "nbconvert_exporter": "python",
   "pygments_lexer": "ipython3",
   "version": "3.11.2"
  }
 },
 "nbformat": 4,
 "nbformat_minor": 2
}
