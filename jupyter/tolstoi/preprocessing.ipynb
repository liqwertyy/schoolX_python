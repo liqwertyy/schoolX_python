{
 "cells": [
  {
   "cell_type": "code",
   "execution_count": 1,
   "metadata": {},
   "outputs": [],
   "source": [
    "import spacy\n",
    "nlp = spacy.load('ru_core_news_sm')\n",
    "nlp.max_length = 243242300000"
   ]
  },
  {
   "cell_type": "code",
   "execution_count": null,
   "metadata": {},
   "outputs": [],
   "source": [
    "with open('1852detstvo.txt', 'r', encoding='cp1251') as file:\n",
    "    text1 = file.read()\n",
    "with open('1868VoinaImir.txt', 'r' ,encoding='cp1251') as file:\n",
    "    text2 = file.read()\n",
    "with open('1878anna-karenina.txt', 'r', encoding= 'utf-8') as file:\n",
    "    text3 = file.read()\n",
    "with open('1885Ludi.txt', 'r', encoding='cp1251',) as file:\n",
    "    text4 = file.read()\n",
    "with open('1889Kreicerova.txt', 'r', encoding= 'utf-8') as file:\n",
    "    text5 = file.read()\n",
    "with open('1911posle-bala.txt', 'r', encoding='cp1251') as file:\n",
    "    text6 = file.read()"
   ]
  },
  {
   "cell_type": "code",
   "execution_count": null,
   "metadata": {},
   "outputs": [],
   "source": [
    "doc = nlp(text1)\n",
    "tokens = [token.text for token in doc]\n",
    "filtred_tokens = [token.text for token in doc if not token.is_stop]\n",
    "pos_tags = [token.pos_ for token in doc]\n",
    "lemma = [token.lemma_ for token in doc]\n"
   ]
  },
  {
   "cell_type": "code",
   "execution_count": null,
   "metadata": {},
   "outputs": [],
   "source": [
    "doc = nlp(text2)\n",
    "tokens = [token.text for token in doc]\n",
    "filtred_tokens = [token.text for token in doc if not token.is_stop]\n",
    "pos_tags = [token.pos_ for token in doc]\n",
    "lemma = [token.lemma_ for token in doc]"
   ]
  },
  {
   "cell_type": "code",
   "execution_count": null,
   "metadata": {},
   "outputs": [],
   "source": [
    "doc = nlp(text3)\n",
    "tokens = [token.text for token in doc]\n",
    "filtred_tokens = [token.text for token in doc if not token.is_stop]\n",
    "pos_tags = [token.pos_ for token in doc]\n",
    "lemma = [token.lemma_ for token in doc]"
   ]
  },
  {
   "cell_type": "code",
   "execution_count": null,
   "metadata": {},
   "outputs": [],
   "source": [
    "doc = nlp(text4)\n",
    "tokens = [token.text for token in doc]\n",
    "filtred_tokens = [token.text for token in doc if not token.is_stop]\n",
    "pos_tags = [token.pos_ for token in doc]\n",
    "lemma = [token.lemma_ for token in doc]"
   ]
  },
  {
   "cell_type": "code",
   "execution_count": null,
   "metadata": {},
   "outputs": [],
   "source": [
    "doc = nlp(text5)\n",
    "tokens = [token.text for token in doc]\n",
    "filtred_tokens = [token.text for token in doc if not token.is_stop]\n",
    "pos_tags = [token.pos_ for token in doc]\n",
    "lemma = [token.lemma_ for token in doc]"
   ]
  },
  {
   "cell_type": "code",
   "execution_count": null,
   "metadata": {},
   "outputs": [],
   "source": [
    "doc = nlp(text6)\n",
    "tokens = [token.text for token in doc]\n",
    "filtred_tokens = [token.text for token in doc if not token.is_stop]\n",
    "pos_tags = [token.pos_ for token in doc]\n",
    "lemma = [token.lemma_ for token in doc]"
   ]
  }
 ],
 "metadata": {
  "kernelspec": {
   "display_name": "Python 3",
   "language": "python",
   "name": "python3"
  },
  "language_info": {
   "codemirror_mode": {
    "name": "ipython",
    "version": 3
   },
   "file_extension": ".py",
   "mimetype": "text/x-python",
   "name": "python",
   "nbconvert_exporter": "python",
   "pygments_lexer": "ipython3",
   "version": "3.11.2"
  }
 },
 "nbformat": 4,
 "nbformat_minor": 2
}
