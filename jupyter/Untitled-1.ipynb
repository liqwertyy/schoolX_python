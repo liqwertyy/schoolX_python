{
 "cells": [
  {
   "cell_type": "code",
   "execution_count": null,
   "metadata": {},
   "outputs": [],
   "source": [
    "tree = {\n",
    "    {\n",
    "        1:'text',\n",
    "        2:'text',\n",
    "        3: 'text',\n",
    "    },  \n",
    "    {\n",
    "        {\n",
    "            {\n",
    "                {\n",
    "                 1:'folder',\n",
    "                 2:'folder',\n",
    "                 3:'target_folder', \n",
    "                },\n",
    "               \n",
    "            }\n",
    "        }\n",
    "    }\n",
    "\n",
    "}"
   ]
  },
  {
   "cell_type": "code",
   "execution_count": null,
   "metadata": {},
   "outputs": [],
   "source": [
    "def rec_find(tree : dict, name: str):\n",
    "    for key, value in tree.items():\n",
    "        print('ключ - {key}')"
   ]
  },
  {
   "cell_type": "code",
   "execution_count": null,
   "metadata": {},
   "outputs": [],
   "source": [
    "rec_find(tree : dict, name: str):"
   ]
  }
 ],
 "metadata": {
  "language_info": {
   "name": "python"
  },
  "orig_nbformat": 4
 },
 "nbformat": 4,
 "nbformat_minor": 2
}
