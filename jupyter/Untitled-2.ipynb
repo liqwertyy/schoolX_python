{
 "cells": [
  {
   "cell_type": "code",
   "execution_count": 1,
   "metadata": {},
   "outputs": [],
   "source": [
    "class Bird: \n",
    "    def init ( \n",
    "        self, \n",
    "        wings_lenght : float = 12.5, \n",
    "        legs_lenght = 3.5, \n",
    "        color: str = 'red', \n",
    "    ): \n",
    "        self.wings_lenght : wings_lenght \n",
    "        self.legs_lenght = legs_lenght \n",
    "        self.color = color \n",
    "        print('Bird Instalized') \n",
    " \n",
    "    def fly(self): \n",
    "        print('i fly') \n",
    "    def swim(self): \n",
    "        print('i swim') \n",
    "    def walk(self): \n",
    "        print('i walk') \n",
    "    def make_noise(self): \n",
    "        print('i Tweet') \n",
    "class RubberToy: \n",
    "    toxic: bool = False\n",
    "    size_cms: float = 12\n",
    "    color: str  = 'yellow'\n",
    "\n",
    "    def bounce(self):\n",
    "        print('plums')\n",
    "    def deforms(self):\n",
    "        print('morphing time') \n",
    "    def make_noise(self):\n",
    "        print('peep') \n"
   ]
  },
  {
   "cell_type": "code",
   "execution_count": 2,
   "metadata": {},
   "outputs": [],
   "source": [
    "bird1 = Bird()\n"
   ]
  },
  {
   "cell_type": "code",
   "execution_count": 3,
   "metadata": {},
   "outputs": [],
   "source": [
    "class MixinFlyable:\n",
    "    def fly(self):\n",
    "        print(\"I fly\")\n",
    "\n",
    "class MixingWalkable:\n",
    "    def walk(self):\n",
    "        print(\"I walk\")\n",
    "\n",
    "class MixinSwimable:\n",
    "    def swim(self):\n",
    "        print (\"I swim\")\n",
    "\n",
    "class MixinTalkable:\n",
    "    def make_noise(self):\n",
    "        print (\"tweet\")\n",
    "\n"
   ]
  }
 ],
 "metadata": {
  "kernelspec": {
   "display_name": "Python 3",
   "language": "python",
   "name": "python3"
  },
  "language_info": {
   "codemirror_mode": {
    "name": "ipython",
    "version": 3
   },
   "file_extension": ".py",
   "mimetype": "text/x-python",
   "name": "python",
   "nbconvert_exporter": "python",
   "pygments_lexer": "ipython3",
   "version": "3.11.2"
  },
  "orig_nbformat": 4
 },
 "nbformat": 4,
 "nbformat_minor": 2
}
