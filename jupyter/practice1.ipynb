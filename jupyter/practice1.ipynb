{
 "cells": [
  {
   "cell_type": "code",
   "execution_count": 19,
   "metadata": {},
   "outputs": [],
   "source": [
    "class Character():\n",
    "    def __init__(self, power, lovcost, iq, speed, damage, name):\n",
    "        self.power = power\n",
    "        self.lovcost = lovcost\n",
    "        self.iq = iq\n",
    "        self.speed = lovcost * 4.2\n",
    "        self.damage = power*iq * 1.5\n",
    "        self.hp = 100\n",
    "        self.attack_damage = (self.power + self.lovcost + self.iq + self.speed + self.damage)/10\n",
    "        self.name = name  \n",
    "    \n",
    "    def trade(self):\n",
    "        print('I trade')\n",
    "    def wait(self):\n",
    "        print('I wait')\n",
    "    def think(self):\n",
    "        print('I think')\n",
    "    def move(self): \n",
    "        print('I move')\n",
    "    def attack (self, other): \n",
    "        other.hp = round (other.hp - self.attack_damage, 2)\n",
    "        print(self.name, 'attack')"
   ]
  },
  {
   "cell_type": "code",
   "execution_count": 20,
   "metadata": {},
   "outputs": [],
   "source": [
    "class Hero(Character):\n",
    "    def jump(self):\n",
    "        jump = self.power * self.lovcost\n",
    "        self.hp = self.hp +(jump * 0.15)\n",
    "    "
   ]
  },
  {
   "cell_type": "code",
   "execution_count": 21,
   "metadata": {},
   "outputs": [],
   "source": [
    "class Villain(Character):\n",
    "    def run(self):\n",
    "        run = self.power * self.speed\n",
    "        self.hp = self.hp +(run * 0.15)"
   ]
  },
  {
   "cell_type": "code",
   "execution_count": 22,
   "metadata": {},
   "outputs": [],
   "source": [
    "class Policeman(Hero):\n",
    "    def megajump(self):\n",
    "        megajump = self.power * self.jump\n",
    "        self.hp = self.hp +(megajump * 0.1)"
   ]
  },
  {
   "cell_type": "code",
   "execution_count": 23,
   "metadata": {},
   "outputs": [],
   "source": [
    "class Theif(Villain):\n",
    "    def megarun(self):\n",
    "        megarun = self.power * self.run\n",
    "        self.hp = self.hp +(megarun * 0.1)"
   ]
  },
  {
   "cell_type": "code",
   "execution_count": 24,
   "metadata": {},
   "outputs": [
    {
     "name": "stdout",
     "output_type": "stream",
     "text": [
      "stepanich attack\n",
      "vadich attack\n",
      "ivanich attack\n",
      "shkebede attack\n",
      "HP Степаныча - {98.11} HP Иваныча - {76.88} HP Вадича - {93.14} HP Шкебеде - {85.42}\n"
     ]
    }
   ],
   "source": [
    "stepanich = Policeman(22,1,6,7,10,'stepanich')\n",
    "stepanich.jump\n",
    "stepanich.megajump\n",
    "vadich = Policeman(7,9,8,5,3,'vadich')\n",
    "stepanich.jump\n",
    "stepanich.megajump\n",
    "ivanich = Theif (3,2,1,1,7,'ivanich')\n",
    "ivanich.run\n",
    "ivanich.megarun\n",
    "shkebede = Theif (7,3,4,8,6,'shkebede')\n",
    "ivanich.run\n",
    "ivanich.megarun\n",
    "stepanich.attack(ivanich)\n",
    "vadich.attack(shkebede)\n",
    "ivanich.attack(stepanich)\n",
    "shkebede.attack(vadich)\n",
    "print('HP Степаныча -',{stepanich.hp},'HP Иваныча -',{ivanich.hp},'HP Вадича -',{vadich.hp},'HP Шкебеде -',{shkebede.hp})"
   ]
  }
 ],
 "metadata": {
  "kernelspec": {
   "display_name": "Python 3",
   "language": "python",
   "name": "python3"
  },
  "language_info": {
   "codemirror_mode": {
    "name": "ipython",
    "version": 3
   },
   "file_extension": ".py",
   "mimetype": "text/x-python",
   "name": "python",
   "nbconvert_exporter": "python",
   "pygments_lexer": "ipython3",
   "version": "3.11.2"
  },
  "orig_nbformat": 4
 },
 "nbformat": 4,
 "nbformat_minor": 2
}
